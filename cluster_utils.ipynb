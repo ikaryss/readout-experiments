{
 "cells": [
  {
   "cell_type": "code",
   "execution_count": 1,
   "metadata": {},
   "outputs": [],
   "source": [
    "import pickle\n",
    "import re\n",
    "\n",
    "from pathlib import Path\n",
    "\n",
    "import matplotlib.pyplot as plt\n",
    "import matplotlib.lines as mlines\n",
    "import numpy as np\n",
    "\n",
    "from utils import extract_data, basic_sep, arrays_to_complex\n",
    "from qubit_measurement_analysis.data import SingleShot, ShotCollection\n",
    "\n",
    "from qubit_measurement_analysis.classification.temporal_post_processor import TPP\n",
    "from qubit_measurement_analysis.classification import GaussianMixtureModels\n",
    "from qubit_measurement_analysis.classification.metrics import Metrics as M \n",
    "\n",
    "import scienceplots\n",
    "\n",
    "plt.style.use([\"science\", \"no-latex\"])\n",
    "# plt.style.use(\"default\")\n",
    "\n",
    "\n",
    "fontsize = 12\n",
    "plt.rcParams.update({\"font.size\": fontsize, \"lines.linewidth\": 1.5})"
   ]
  },
  {
   "cell_type": "code",
   "execution_count": 2,
   "metadata": {},
   "outputs": [
    {
     "data": {
      "text/plain": [
       "[PosixPath('/home/kolya/github/data/snowdrop4Q/4Q_readout/singleshots_sep_Q1-Q2-Q3-Q4/singleshots_sep_Q1-Q2-Q3-Q4_0000_Q1.pkl'),\n",
       " PosixPath('/home/kolya/github/data/snowdrop4Q/4Q_readout/singleshots_sep_Q1-Q2-Q3-Q4/singleshots_sep_Q1-Q2-Q3-Q4_0001_Q1.pkl'),\n",
       " PosixPath('/home/kolya/github/data/snowdrop4Q/4Q_readout/singleshots_sep_Q1-Q2-Q3-Q4/singleshots_sep_Q1-Q2-Q3-Q4_0010_Q1.pkl'),\n",
       " PosixPath('/home/kolya/github/data/snowdrop4Q/4Q_readout/singleshots_sep_Q1-Q2-Q3-Q4/singleshots_sep_Q1-Q2-Q3-Q4_0011_Q1.pkl'),\n",
       " PosixPath('/home/kolya/github/data/snowdrop4Q/4Q_readout/singleshots_sep_Q1-Q2-Q3-Q4/singleshots_sep_Q1-Q2-Q3-Q4_0100_Q1.pkl'),\n",
       " PosixPath('/home/kolya/github/data/snowdrop4Q/4Q_readout/singleshots_sep_Q1-Q2-Q3-Q4/singleshots_sep_Q1-Q2-Q3-Q4_0101_Q1.pkl'),\n",
       " PosixPath('/home/kolya/github/data/snowdrop4Q/4Q_readout/singleshots_sep_Q1-Q2-Q3-Q4/singleshots_sep_Q1-Q2-Q3-Q4_0110_Q1.pkl'),\n",
       " PosixPath('/home/kolya/github/data/snowdrop4Q/4Q_readout/singleshots_sep_Q1-Q2-Q3-Q4/singleshots_sep_Q1-Q2-Q3-Q4_0111_Q1.pkl'),\n",
       " PosixPath('/home/kolya/github/data/snowdrop4Q/4Q_readout/singleshots_sep_Q1-Q2-Q3-Q4/singleshots_sep_Q1-Q2-Q3-Q4_1000_Q1.pkl'),\n",
       " PosixPath('/home/kolya/github/data/snowdrop4Q/4Q_readout/singleshots_sep_Q1-Q2-Q3-Q4/singleshots_sep_Q1-Q2-Q3-Q4_1001_Q1.pkl'),\n",
       " PosixPath('/home/kolya/github/data/snowdrop4Q/4Q_readout/singleshots_sep_Q1-Q2-Q3-Q4/singleshots_sep_Q1-Q2-Q3-Q4_1010_Q1.pkl'),\n",
       " PosixPath('/home/kolya/github/data/snowdrop4Q/4Q_readout/singleshots_sep_Q1-Q2-Q3-Q4/singleshots_sep_Q1-Q2-Q3-Q4_1011_Q1.pkl'),\n",
       " PosixPath('/home/kolya/github/data/snowdrop4Q/4Q_readout/singleshots_sep_Q1-Q2-Q3-Q4/singleshots_sep_Q1-Q2-Q3-Q4_1100_Q1.pkl'),\n",
       " PosixPath('/home/kolya/github/data/snowdrop4Q/4Q_readout/singleshots_sep_Q1-Q2-Q3-Q4/singleshots_sep_Q1-Q2-Q3-Q4_1101_Q1.pkl'),\n",
       " PosixPath('/home/kolya/github/data/snowdrop4Q/4Q_readout/singleshots_sep_Q1-Q2-Q3-Q4/singleshots_sep_Q1-Q2-Q3-Q4_1110_Q1.pkl'),\n",
       " PosixPath('/home/kolya/github/data/snowdrop4Q/4Q_readout/singleshots_sep_Q1-Q2-Q3-Q4/singleshots_sep_Q1-Q2-Q3-Q4_1111_Q1.pkl')]"
      ]
     },
     "execution_count": 2,
     "metadata": {},
     "output_type": "execute_result"
    }
   ],
   "source": [
    "qubit = 1-1\n",
    "\n",
    "data_path1 = Path(\n",
    "    r\"C:\\Users\\nokol\\OneDrive\\Deep Learning\\state_discriminator\\pkl_data\\4_qubits\\4Q_readout\\singleshots_sep_Q1-Q2-Q3-Q4\"\n",
    ")\n",
    "data_path1 = Path(r\"/home/kolya/github/data/snowdrop4Q/4Q_readout/singleshots_sep_Q1-Q2-Q3-Q4\")\n",
    "\n",
    "# Define the regular expression pattern\n",
    "pattern1 = re.compile(r\"(0000|1111)_Q1\\.pkl$\")\n",
    "pattern16 = re.compile(r\"_Q1\\.pkl$\")\n",
    "\n",
    "# retrieve paths of selected files\n",
    "INPUT_FILES16 = sorted([file for file in data_path1.glob(\"*.pkl\") if pattern16.search(file.name)])\n",
    "\n",
    "INPUT_FILES16"
   ]
  },
  {
   "cell_type": "code",
   "execution_count": 3,
   "metadata": {},
   "outputs": [],
   "source": [
    "from typing import Iterable\n",
    "def collection_from_files(input_files, trc_st=0, trc_en=1000, samples_slice=slice(5000), qubit_idx=None): \n",
    "    collection = ShotCollection()\n",
    "    for file in input_files:\n",
    "        with open(file, \"rb\") as f:\n",
    "            data = pickle.load(f)\n",
    "        keys, values = extract_data(file)\n",
    "        # print(f\"qubits: {keys}\\tprep state: {values}\")\n",
    "        if qubit_idx:\n",
    "            keys = keys[qubit_idx:qubit_idx+1]\n",
    "            values = values[qubit_idx:qubit_idx+1]\n",
    "            \n",
    "        qubits_classes = {key: value for key, value in zip(keys, values)}\n",
    "        meas_time = data[3]\n",
    "        if ~isinstance(data[2], Iterable):\n",
    "            freqs = {keys[0]: data[2]}\n",
    "        else: \n",
    "            freqs = {key: value for key, value in zip(keys, data[2])}\n",
    "        in_phase_state = data[0]\n",
    "        quadrature_state = data[1]\n",
    "\n",
    "        in_phase_state, quadrature_state, meas_time = basic_sep(\n",
    "        in_phase_state, quadrature_state, meas_time, trc_st, trc_en\n",
    "        )\n",
    "        values = arrays_to_complex(\n",
    "            in_phase_state[samples_slice], quadrature_state[samples_slice]\n",
    "        )\n",
    "        \n",
    "        # print(f\"values Mb: {values.nbytes * 1e-6}, meas_time Mb: {meas_time.nbytes * 1e-6}\")\n",
    "\n",
    "        collection.extend(\n",
    "            [SingleShot(value=value, qubits_classes=qubits_classes) for value in values]\n",
    "        )\n",
    "    return collection, freqs, meas_time\n",
    "\n",
    "        "
   ]
  },
  {
   "cell_type": "code",
   "execution_count": 4,
   "metadata": {},
   "outputs": [],
   "source": [
    "TRC_ST = 200\n",
    "TRC_EN = 1192\n",
    "\n",
    "LAMBDA = 700"
   ]
  },
  {
   "cell_type": "markdown",
   "metadata": {},
   "source": [
    "## State 0"
   ]
  },
  {
   "cell_type": "code",
   "execution_count": 5,
   "metadata": {},
   "outputs": [
    {
     "data": {
      "text/plain": [
       "['0000', '0001', '0010', '0011', '0100', '0101', '0110', '0111']"
      ]
     },
     "execution_count": 5,
     "metadata": {},
     "output_type": "execute_result"
    }
   ],
   "source": [
    "current_files = INPUT_FILES16[:8]\n",
    "\n",
    "current_states = [str(string)[-11:-7] for string in current_files]\n",
    "current_states"
   ]
  },
  {
   "cell_type": "code",
   "execution_count": 6,
   "metadata": {},
   "outputs": [
    {
     "name": "stdout",
     "output_type": "stream",
     "text": [
      "[PosixPath('/home/kolya/github/data/snowdrop4Q/4Q_readout/singleshots_sep_Q1-Q2-Q3-Q4/singleshots_sep_Q1-Q2-Q3-Q4_0000_Q1.pkl'), PosixPath('/home/kolya/github/data/snowdrop4Q/4Q_readout/singleshots_sep_Q1-Q2-Q3-Q4/singleshots_sep_Q1-Q2-Q3-Q4_0001_Q1.pkl')]\n",
      "(20000, 1, 992)\n",
      "Z_0000_0001_lamb_700.npy\n",
      "[PosixPath('/home/kolya/github/data/snowdrop4Q/4Q_readout/singleshots_sep_Q1-Q2-Q3-Q4/singleshots_sep_Q1-Q2-Q3-Q4_0010_Q1.pkl'), PosixPath('/home/kolya/github/data/snowdrop4Q/4Q_readout/singleshots_sep_Q1-Q2-Q3-Q4/singleshots_sep_Q1-Q2-Q3-Q4_0011_Q1.pkl')]\n",
      "(20000, 1, 992)\n",
      "Z_0010_0011_lamb_700.npy\n",
      "[PosixPath('/home/kolya/github/data/snowdrop4Q/4Q_readout/singleshots_sep_Q1-Q2-Q3-Q4/singleshots_sep_Q1-Q2-Q3-Q4_0100_Q1.pkl'), PosixPath('/home/kolya/github/data/snowdrop4Q/4Q_readout/singleshots_sep_Q1-Q2-Q3-Q4/singleshots_sep_Q1-Q2-Q3-Q4_0101_Q1.pkl')]\n",
      "(20000, 1, 992)\n",
      "Z_0100_0101_lamb_700.npy\n",
      "[PosixPath('/home/kolya/github/data/snowdrop4Q/4Q_readout/singleshots_sep_Q1-Q2-Q3-Q4/singleshots_sep_Q1-Q2-Q3-Q4_0110_Q1.pkl'), PosixPath('/home/kolya/github/data/snowdrop4Q/4Q_readout/singleshots_sep_Q1-Q2-Q3-Q4/singleshots_sep_Q1-Q2-Q3-Q4_0111_Q1.pkl')]\n",
      "(20000, 1, 992)\n",
      "Z_0110_0111_lamb_700.npy\n"
     ]
    }
   ],
   "source": [
    "import fastcluster as fc\n",
    "\n",
    "for i in range(0, len(current_files), 2):\n",
    "    curr = current_files[i : i + 2]\n",
    "    curr_states = [str(string)[-11:-7] for string in curr]\n",
    "    print(curr)\n",
    "    collection, freqs, meas_time = collection_from_files(\n",
    "        curr, trc_st=TRC_ST, trc_en=TRC_EN, samples_slice=slice(10000)\n",
    "    )\n",
    "\n",
    "    collection = (\n",
    "        collection.mean_centring_all()\n",
    "        .demodulate_all(freqs, meas_time, \"clockwise\")\n",
    "        .compute()\n",
    "    )\n",
    "    print(collection.shape)\n",
    "\n",
    "    z_naming = f\"Z_{'_'.join(curr_states)}_lamb_{LAMBDA}.npy\"\n",
    "    print(z_naming)\n",
    "\n",
    "    collection_smooth = collection.whittaker_eilers_smoother_all(LAMBDA, 2).compute()\n",
    "    collection_smooth.to(\"cuda\")\n",
    "    distance_matrix = collection_smooth.sspd_to(collection_smooth, method=\"self_cross_product\")\n",
    "\n",
    "    Z = fc.linkage(distance_matrix[0], method=\"complete\")\n",
    "\n",
    "    collection_smooth.to(\"cpu\")\n",
    "    collection.to(\"cpu\")\n",
    "\n",
    "    np.save(z_naming, np.array(Z))\n",
    "    "
   ]
  },
  {
   "cell_type": "markdown",
   "metadata": {},
   "source": [
    "## State 1"
   ]
  },
  {
   "cell_type": "code",
   "execution_count": 7,
   "metadata": {},
   "outputs": [
    {
     "data": {
      "text/plain": [
       "([PosixPath('/home/kolya/github/data/snowdrop4Q/4Q_readout/singleshots_sep_Q1-Q2-Q3-Q4/singleshots_sep_Q1-Q2-Q3-Q4_1000_Q1.pkl'),\n",
       "  PosixPath('/home/kolya/github/data/snowdrop4Q/4Q_readout/singleshots_sep_Q1-Q2-Q3-Q4/singleshots_sep_Q1-Q2-Q3-Q4_1001_Q1.pkl'),\n",
       "  PosixPath('/home/kolya/github/data/snowdrop4Q/4Q_readout/singleshots_sep_Q1-Q2-Q3-Q4/singleshots_sep_Q1-Q2-Q3-Q4_1010_Q1.pkl'),\n",
       "  PosixPath('/home/kolya/github/data/snowdrop4Q/4Q_readout/singleshots_sep_Q1-Q2-Q3-Q4/singleshots_sep_Q1-Q2-Q3-Q4_1011_Q1.pkl'),\n",
       "  PosixPath('/home/kolya/github/data/snowdrop4Q/4Q_readout/singleshots_sep_Q1-Q2-Q3-Q4/singleshots_sep_Q1-Q2-Q3-Q4_1100_Q1.pkl'),\n",
       "  PosixPath('/home/kolya/github/data/snowdrop4Q/4Q_readout/singleshots_sep_Q1-Q2-Q3-Q4/singleshots_sep_Q1-Q2-Q3-Q4_1101_Q1.pkl'),\n",
       "  PosixPath('/home/kolya/github/data/snowdrop4Q/4Q_readout/singleshots_sep_Q1-Q2-Q3-Q4/singleshots_sep_Q1-Q2-Q3-Q4_1110_Q1.pkl'),\n",
       "  PosixPath('/home/kolya/github/data/snowdrop4Q/4Q_readout/singleshots_sep_Q1-Q2-Q3-Q4/singleshots_sep_Q1-Q2-Q3-Q4_1111_Q1.pkl')],\n",
       " ['1000', '1001', '1010', '1011', '1100', '1101', '1110', '1111'])"
      ]
     },
     "execution_count": 7,
     "metadata": {},
     "output_type": "execute_result"
    }
   ],
   "source": [
    "current_files = INPUT_FILES16[8:]\n",
    "\n",
    "current_states = [str(string)[-11:-7] for string in current_files]\n",
    "current_files, current_states"
   ]
  },
  {
   "cell_type": "code",
   "execution_count": 8,
   "metadata": {},
   "outputs": [
    {
     "name": "stdout",
     "output_type": "stream",
     "text": [
      "[PosixPath('/home/kolya/github/data/snowdrop4Q/4Q_readout/singleshots_sep_Q1-Q2-Q3-Q4/singleshots_sep_Q1-Q2-Q3-Q4_1000_Q1.pkl'), PosixPath('/home/kolya/github/data/snowdrop4Q/4Q_readout/singleshots_sep_Q1-Q2-Q3-Q4/singleshots_sep_Q1-Q2-Q3-Q4_1001_Q1.pkl')]\n",
      "(20000, 1, 992)\n",
      "Z_1000_1001_lamb_700.npy\n",
      "[PosixPath('/home/kolya/github/data/snowdrop4Q/4Q_readout/singleshots_sep_Q1-Q2-Q3-Q4/singleshots_sep_Q1-Q2-Q3-Q4_1010_Q1.pkl'), PosixPath('/home/kolya/github/data/snowdrop4Q/4Q_readout/singleshots_sep_Q1-Q2-Q3-Q4/singleshots_sep_Q1-Q2-Q3-Q4_1011_Q1.pkl')]\n",
      "(20000, 1, 992)\n",
      "Z_1010_1011_lamb_700.npy\n",
      "[PosixPath('/home/kolya/github/data/snowdrop4Q/4Q_readout/singleshots_sep_Q1-Q2-Q3-Q4/singleshots_sep_Q1-Q2-Q3-Q4_1100_Q1.pkl'), PosixPath('/home/kolya/github/data/snowdrop4Q/4Q_readout/singleshots_sep_Q1-Q2-Q3-Q4/singleshots_sep_Q1-Q2-Q3-Q4_1101_Q1.pkl')]\n",
      "(20000, 1, 992)\n",
      "Z_1100_1101_lamb_700.npy\n",
      "[PosixPath('/home/kolya/github/data/snowdrop4Q/4Q_readout/singleshots_sep_Q1-Q2-Q3-Q4/singleshots_sep_Q1-Q2-Q3-Q4_1110_Q1.pkl'), PosixPath('/home/kolya/github/data/snowdrop4Q/4Q_readout/singleshots_sep_Q1-Q2-Q3-Q4/singleshots_sep_Q1-Q2-Q3-Q4_1111_Q1.pkl')]\n",
      "(20000, 1, 992)\n",
      "Z_1110_1111_lamb_700.npy\n"
     ]
    }
   ],
   "source": [
    "import fastcluster as fc\n",
    "\n",
    "for i in range(0, len(current_files), 2):\n",
    "    curr = current_files[i : i + 2]\n",
    "    curr_states = [str(string)[-11:-7] for string in curr]\n",
    "    print(curr)\n",
    "    collection, freqs, meas_time = collection_from_files(\n",
    "        curr, trc_st=TRC_ST, trc_en=TRC_EN, samples_slice=slice(10000)\n",
    "    )\n",
    "\n",
    "    collection = (\n",
    "        collection.mean_centring_all()\n",
    "        .demodulate_all(freqs, meas_time, \"clockwise\")\n",
    "        .compute()\n",
    "    )\n",
    "    print(collection.shape)\n",
    "\n",
    "    z_naming = f\"Z_{'_'.join(curr_states)}_lamb_{LAMBDA}.npy\"\n",
    "    print(z_naming)\n",
    "\n",
    "    collection_smooth = collection.whittaker_eilers_smoother_all(LAMBDA, 2).compute()\n",
    "    collection_smooth.to(\"cuda\")\n",
    "    distance_matrix = collection_smooth.sspd_to(collection_smooth, method=\"self_cross_product\")\n",
    "\n",
    "    Z = fc.linkage(distance_matrix[0], method=\"complete\")\n",
    "\n",
    "    collection_smooth.to(\"cpu\")\n",
    "    collection.to(\"cpu\")\n",
    "\n",
    "    np.save(z_naming, np.array(Z))"
   ]
  }
 ],
 "metadata": {
  "kernelspec": {
   "display_name": "readout",
   "language": "python",
   "name": "python3"
  },
  "language_info": {
   "codemirror_mode": {
    "name": "ipython",
    "version": 3
   },
   "file_extension": ".py",
   "mimetype": "text/x-python",
   "name": "python",
   "nbconvert_exporter": "python",
   "pygments_lexer": "ipython3",
   "version": "3.11.9"
  }
 },
 "nbformat": 4,
 "nbformat_minor": 2
}
